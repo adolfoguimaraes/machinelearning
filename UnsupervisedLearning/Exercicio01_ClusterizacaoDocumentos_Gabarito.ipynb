{
 "cells": [
  {
   "cell_type": "markdown",
   "metadata": {
    "deletable": true,
    "editable": true
   },
   "source": [
    "# Aprendizado Não-Supervisionado\n",
    "\n",
    "## Exercício 01 - Clusterização de Documentos\n",
    "\n",
    "Nesse exercício vamos utilizar os métodos de clusterização estudados para agrupar documentos. Neste exemplo, documentos serão compostos pelas sinópses de filmes. Vamos seguir a proposto [deste tuturial](http://brandonrose.org/clustering). Para construir a base de dados, coletamos as sinopses dos 100 filmes mais bem votados do IMDb. Para isso, utilizamos a API do [imdbpie](https://github.com/richardasaurus/imdb-pie) que permite coletar informações diretamente da base do IMDb. Para o pré-processamento dos dados textuais utilizamos o [NLTK](http://www.nltk.org). "
   ]
  },
  {
   "cell_type": "code",
   "execution_count": 1,
   "metadata": {
    "collapsed": true,
    "deletable": true,
    "editable": true
   },
   "outputs": [],
   "source": [
    "# Imports necessários para este exercício\n",
    "from __future__ import print_function\n",
    "import nltk\n",
    "import re\n",
    "import pandas as pd\n",
    "from sklearn.cluster import KMeans\n",
    "from imdbpie import Imdb\n",
    "from nltk.stem.snowball import SnowballStemmer\n",
    "from sklearn.externals import joblib\n",
    "from IPython.display import YouTubeVideo, Image"
   ]
  },
  {
   "cell_type": "markdown",
   "metadata": {
    "deletable": true,
    "editable": true
   },
   "source": [
    "### Dataset\n",
    "\n",
    "O dataset é composto por uma lista de 100 filmes e suas respectivas sinopses. Como leva um certo tempo para acessar a base do IMDb e retornar as informações dos filmes, coletamos os dados e persistimos em um arquivo **top100titles.pkl**."
   ]
  },
  {
   "cell_type": "code",
   "execution_count": 2,
   "metadata": {
    "collapsed": true,
    "deletable": true,
    "editable": true
   },
   "outputs": [],
   "source": [
    "imdb = Imdb()\n",
    "imdb = Imdb(anonymize=True) # to proxy requests"
   ]
  },
  {
   "cell_type": "markdown",
   "metadata": {
    "deletable": true,
    "editable": true
   },
   "source": [
    "Caso seja a primeira vez que esteja executando o tutorial é necessário rodar o código a seguir para gerar a base. Caso contrário, pode pular e carregar as informações diretamente do arquivo. "
   ]
  },
  {
   "cell_type": "code",
   "execution_count": 33,
   "metadata": {
    "collapsed": false,
    "deletable": true,
    "editable": true
   },
   "outputs": [
    {
     "name": "stdout",
     "output_type": "stream",
     "text": [
      "Collecting The Shawshank Redemption\n",
      "Collecting The Godfather\n",
      "Collecting The Godfather: Part II\n",
      "Collecting The Dark Knight\n",
      "Collecting 12 Angry Men\n",
      "Collecting Schindler's List\n",
      "Collecting Pulp Fiction\n",
      "Collecting The Lord of the Rings: The Return of the King\n",
      "Collecting The Good, the Bad and the Ugly\n",
      "Collecting Fight Club\n",
      "Collecting The Lord of the Rings: The Fellowship of the Ring\n",
      "Collecting Star Wars: Episode V - The Empire Strikes Back\n",
      "Collecting Forrest Gump\n",
      "Collecting Inception\n",
      "Collecting The Lord of the Rings: The Two Towers\n",
      "Collecting One Flew Over the Cuckoo's Nest\n",
      "Collecting Goodfellas\n",
      "Collecting The Matrix\n",
      "Collecting Seven Samurai\n",
      "Collecting Star Wars: Episode IV - A New Hope\n",
      "Collecting City of God\n",
      "Collecting Se7en\n",
      "Collecting The Silence of the Lambs\n",
      "Collecting It's a Wonderful Life\n",
      "Collecting Life Is Beautiful\n",
      "Collecting The Usual Suspects\n",
      "Collecting Léon: The Professional\n",
      "Collecting Spirited Away\n",
      "Collecting Saving Private Ryan\n",
      "Collecting Once Upon a Time in the West\n",
      "Collecting American History X\n",
      "Collecting Interstellar\n",
      "Collecting Casablanca\n",
      "Collecting City Lights\n",
      "Collecting Psycho\n",
      "Collecting The Green Mile\n",
      "Collecting The Intouchables\n",
      "Collecting Modern Times\n",
      "Collecting Raiders of the Lost Ark\n",
      "Collecting Rear Window\n",
      "Collecting The Pianist\n",
      "Collecting The Departed\n",
      "Collecting Terminator 2: Judgment Day\n",
      "Collecting Back to the Future\n",
      "Collecting Whiplash\n",
      "Collecting Gladiator\n",
      "Collecting Memento\n",
      "Collecting The Prestige\n",
      "Collecting The Lion King\n",
      "Collecting Apocalypse Now\n",
      "Collecting Alien\n",
      "Collecting Sunset Blvd.\n",
      "Collecting Dr. Strangelove or: How I Learned to Stop Worrying and Love the Bomb\n",
      "Collecting The Great Dictator\n",
      "Collecting Cinema Paradiso\n",
      "Collecting The Lives of Others\n",
      "Collecting Grave of the Fireflies\n",
      "Collecting Paths of Glory\n",
      "Collecting Django Unchained\n",
      "Collecting The Shining\n",
      "Collecting WALL·E\n",
      "Collecting American Beauty\n",
      "Collecting The Dark Knight Rises\n",
      "Collecting Princess Mononoke\n",
      "Collecting Aliens\n",
      "Collecting Oldboy\n",
      "Collecting Once Upon a Time in America\n",
      "Collecting Witness for the Prosecution\n",
      "Collecting Das Boot\n",
      "Collecting Citizen Kane\n",
      "Collecting North by Northwest\n",
      "Collecting Vertigo\n",
      "Collecting Star Wars: Episode VI - Return of the Jedi\n",
      "Collecting Reservoir Dogs\n",
      "Collecting Braveheart\n",
      "Collecting M\n",
      "Collecting Requiem for a Dream\n",
      "Collecting Amélie\n",
      "Collecting Dangal\n",
      "Collecting A Clockwork Orange\n",
      "Collecting Like Stars on Earth\n",
      "Collecting Taxi Driver\n",
      "Collecting Lawrence of Arabia\n",
      "Collecting Double Indemnity\n",
      "Collecting Eternal Sunshine of the Spotless Mind\n",
      "Collecting Amadeus\n",
      "Collecting To Kill a Mockingbird\n",
      "Collecting Toy Story 3\n",
      "Collecting Full Metal Jacket\n",
      "Collecting 2001: A Space Odyssey\n",
      "Collecting The Sting\n",
      "Collecting Singin' in the Rain\n",
      "Collecting Toy Story\n",
      "Collecting Bicycle Thieves\n",
      "Collecting The Kid\n",
      "Collecting Inglourious Basterds\n",
      "Collecting Snatch\n",
      "Collecting 3 Idiots\n",
      "Collecting Monty Python and the Holy Grail\n",
      "Collecting Logan\n"
     ]
    },
    {
     "data": {
      "text/plain": [
       "['top100titles.pkl']"
      ]
     },
     "execution_count": 33,
     "metadata": {},
     "output_type": "execute_result"
    }
   ],
   "source": [
    "top100 = imdb.top_250()[:100]\n",
    "title_object = []\n",
    "    \n",
    "for movie in top100:\n",
    "    print(\"Collecting %s\" % movie['title'])\n",
    "    title = imdb.get_title_by_id(movie['tconst'])\n",
    "    title_object.append(title)\n",
    "    \n",
    "joblib.dump(title_object, \"top100titles.pkl\")"
   ]
  },
  {
   "cell_type": "code",
   "execution_count": 3,
   "metadata": {
    "collapsed": true,
    "deletable": true,
    "editable": true
   },
   "outputs": [],
   "source": [
    "# Carregando as informações diretamente do arquivo gerado\n",
    "top100titles = joblib.load('top100titles.pkl')"
   ]
  },
  {
   "cell_type": "markdown",
   "metadata": {
    "deletable": true,
    "editable": true
   },
   "source": [
    "A variável **top100titles** é uma lista de objetos do tipo **Title**. Esse objeto encapsula um filme do IMDb. Para ter acesso a todas as informações disponíveis, acesse a documentação da API. A seguir usamos o comando a função **dir** do python para listar todos os métodos que possuem na classe que implementa o Objeto **Title**."
   ]
  },
  {
   "cell_type": "code",
   "execution_count": 4,
   "metadata": {
    "collapsed": false,
    "deletable": true,
    "editable": true
   },
   "outputs": [
    {
     "data": {
      "text/plain": [
       "['__class__',\n",
       " '__delattr__',\n",
       " '__dict__',\n",
       " '__dir__',\n",
       " '__doc__',\n",
       " '__eq__',\n",
       " '__format__',\n",
       " '__ge__',\n",
       " '__getattribute__',\n",
       " '__gt__',\n",
       " '__hash__',\n",
       " '__init__',\n",
       " '__init_subclass__',\n",
       " '__le__',\n",
       " '__lt__',\n",
       " '__module__',\n",
       " '__ne__',\n",
       " '__new__',\n",
       " '__reduce__',\n",
       " '__reduce_ex__',\n",
       " '__repr__',\n",
       " '__setattr__',\n",
       " '__sizeof__',\n",
       " '__str__',\n",
       " '__subclasshook__',\n",
       " '__unicode__',\n",
       " '__weakref__',\n",
       " '_extract_cast_summary',\n",
       " '_extract_cover_url',\n",
       " '_extract_creators',\n",
       " '_extract_credits',\n",
       " '_extract_directors_summary',\n",
       " '_extract_trailer_image_urls',\n",
       " '_extract_trailers',\n",
       " '_extract_writers_summary',\n",
       " '_extract_year',\n",
       " 'cast_summary',\n",
       " 'certification',\n",
       " 'cover_url',\n",
       " 'creators',\n",
       " 'credits',\n",
       " 'directors_summary',\n",
       " 'genres',\n",
       " 'imdb_id',\n",
       " 'plot_outline',\n",
       " 'plots',\n",
       " 'poster_url',\n",
       " 'rating',\n",
       " 'release_date',\n",
       " 'runtime',\n",
       " 'tagline',\n",
       " 'title',\n",
       " 'trailer_image_urls',\n",
       " 'trailers',\n",
       " 'type',\n",
       " 'votes',\n",
       " 'writers_summary',\n",
       " 'year']"
      ]
     },
     "execution_count": 4,
     "metadata": {},
     "output_type": "execute_result"
    }
   ],
   "source": [
    "title0 = top100titles[0]\n",
    "dir(title0)"
   ]
  },
  {
   "cell_type": "markdown",
   "metadata": {
    "deletable": true,
    "editable": true
   },
   "source": [
    "Nossa base de dados consiste em uma lista de Título dos Filmes e uma lista correspondente das Sinopses destes filmes. O código a seguir gera essas duas listas a partir da lista com os Top100 filmes do IMDb. Uma filme pode ter mais de uma sinopse no IMDb. Desta forma, concatemos todas estes textos em um único que representa o conteúdo do documento. "
   ]
  },
  {
   "cell_type": "code",
   "execution_count": 5,
   "metadata": {
    "collapsed": false,
    "deletable": true,
    "editable": true
   },
   "outputs": [],
   "source": [
    "list_of_titles = []\n",
    "list_of_synopses = []\n",
    "list_of_ids = []\n",
    "\n",
    "for title in top100titles:\n",
    "    plot_str = \"\"\n",
    "    list_of_titles.append(title.title)\n",
    "    for plot in title.plots:\n",
    "        plot_str += plot + \" \"\n",
    "        \n",
    "    list_of_synopses.append(plot_str)\n",
    "    list_of_ids.append(title.imdb_id)"
   ]
  },
  {
   "cell_type": "markdown",
   "metadata": {
    "deletable": true,
    "editable": true
   },
   "source": [
    "Por fim, para completar a base vamos gerar o vocabulário. O vocabulário será formado de duas formas: uma lista das palavras e uma lista do *stemmer*. O *stemmer* é o radical da palavra. Para classificação isso se mostrar interessante porque não diferencia palavras como run, running, runner. Todas, independente da conjugação, remetem a ação de correr. Sendo assim, considerando uma palavra como uma *feature*, teríamos somente uma *run* que seria referencianda em qualquer ocorrência de seus derivados. \n",
    "\n",
    "A biblioteca do NLTK já vem com métodos que realiza essa tarefa. Primeiro precisamos instanciar o objeto **stemmer**."
   ]
  },
  {
   "cell_type": "code",
   "execution_count": 6,
   "metadata": {
    "collapsed": true,
    "deletable": true,
    "editable": true
   },
   "outputs": [],
   "source": [
    "stemmer = SnowballStemmer(\"english\")"
   ]
  },
  {
   "cell_type": "markdown",
   "metadata": {
    "deletable": true,
    "editable": true
   },
   "source": [
    "Vão ser criadas duas funções: **tokenize_and_stem** que tokeniza o texto utilizando o stemmer. E a função **tokenize_only** que faz a tokenização padrão do texto. "
   ]
  },
  {
   "cell_type": "code",
   "execution_count": 7,
   "metadata": {
    "collapsed": true,
    "deletable": true,
    "editable": true
   },
   "outputs": [],
   "source": [
    "def tokenize_and_stem(text):\n",
    "    # first tokenize by sentence, then by word to ensure that punctuation is caught as it's own token\n",
    "    tokens = [word for sent in nltk.sent_tokenize(text) for word in nltk.word_tokenize(sent)]\n",
    "    filtered_tokens = []\n",
    "    # filter out any tokens not containing letters (e.g., numeric tokens, raw punctuation)\n",
    "    for token in tokens:\n",
    "        if re.search('[a-zA-Z]', token):\n",
    "            filtered_tokens.append(token)\n",
    "    stems = [stemmer.stem(t) for t in filtered_tokens]\n",
    "    return stems\n",
    "\n",
    "\n",
    "def tokenize_only(text):\n",
    "    # first tokenize by sentence, then by word to ensure that punctuation is caught as it's own token\n",
    "    tokens = [word.lower() for sent in nltk.sent_tokenize(text) for word in nltk.word_tokenize(sent)]\n",
    "    filtered_tokens = []\n",
    "    # filter out any tokens not containing letters (e.g., numeric tokens, raw punctuation)\n",
    "    for token in tokens:\n",
    "        if re.search('[a-zA-Z]', token):\n",
    "            filtered_tokens.append(token)\n",
    "    return filtered_tokens"
   ]
  },
  {
   "cell_type": "markdown",
   "metadata": {
    "deletable": true,
    "editable": true
   },
   "source": [
    "Por fim é gerado os dois vocabulários e um **DataFrame** com um índice do **stemmer** para a palavra original."
   ]
  },
  {
   "cell_type": "code",
   "execution_count": 8,
   "metadata": {
    "collapsed": false,
    "deletable": true,
    "editable": true
   },
   "outputs": [],
   "source": [
    "totalvocab_stemmed = []\n",
    "totalvocab_tokenized = []\n",
    "for i in list_of_synopses:\n",
    "    allwords_stemmed = tokenize_and_stem(i) #for each item in 'synopses', tokenize/stem\n",
    "    totalvocab_stemmed.extend(allwords_stemmed) #extend the 'totalvocab_stemmed' list\n",
    "    \n",
    "    allwords_tokenized = tokenize_only(i)\n",
    "    totalvocab_tokenized.extend(allwords_tokenized)"
   ]
  },
  {
   "cell_type": "code",
   "execution_count": 9,
   "metadata": {
    "collapsed": false,
    "deletable": true,
    "editable": true
   },
   "outputs": [
    {
     "name": "stdout",
     "output_type": "stream",
     "text": [
      "Existem 47983 itens no vocab_frame\n"
     ]
    }
   ],
   "source": [
    "vocab_frame = pd.DataFrame({'words': totalvocab_tokenized}, index = totalvocab_stemmed)\n",
    "print('Existem ' + str(vocab_frame.shape[0]) + ' itens no vocab_frame')"
   ]
  },
  {
   "cell_type": "code",
   "execution_count": 10,
   "metadata": {
    "collapsed": false,
    "deletable": true,
    "editable": true
   },
   "outputs": [
    {
     "data": {
      "text/html": [
       "<div>\n",
       "<style>\n",
       "    .dataframe thead tr:only-child th {\n",
       "        text-align: right;\n",
       "    }\n",
       "\n",
       "    .dataframe thead th {\n",
       "        text-align: left;\n",
       "    }\n",
       "\n",
       "    .dataframe tbody tr th {\n",
       "        vertical-align: top;\n",
       "    }\n",
       "</style>\n",
       "<table border=\"1\" class=\"dataframe\">\n",
       "  <thead>\n",
       "    <tr style=\"text-align: right;\">\n",
       "      <th></th>\n",
       "      <th>words</th>\n",
       "    </tr>\n",
       "  </thead>\n",
       "  <tbody>\n",
       "    <tr>\n",
       "      <th>chronicl</th>\n",
       "      <td>chronicles</td>\n",
       "    </tr>\n",
       "    <tr>\n",
       "      <th>the</th>\n",
       "      <td>the</td>\n",
       "    </tr>\n",
       "    <tr>\n",
       "      <th>experi</th>\n",
       "      <td>experiences</td>\n",
       "    </tr>\n",
       "    <tr>\n",
       "      <th>of</th>\n",
       "      <td>of</td>\n",
       "    </tr>\n",
       "    <tr>\n",
       "      <th>a</th>\n",
       "      <td>a</td>\n",
       "    </tr>\n",
       "  </tbody>\n",
       "</table>\n",
       "</div>"
      ],
      "text/plain": [
       "                words\n",
       "chronicl   chronicles\n",
       "the               the\n",
       "experi    experiences\n",
       "of                 of\n",
       "a                   a"
      ]
     },
     "execution_count": 10,
     "metadata": {},
     "output_type": "execute_result"
    }
   ],
   "source": [
    "vocab_frame.head()"
   ]
  },
  {
   "cell_type": "markdown",
   "metadata": {
    "deletable": true,
    "editable": true
   },
   "source": [
    "### Relizando a Clusterização\n",
    "\n",
    "Montado nosso dataset, precisamos construir o objeto que de fato será passado para os métodos de clusterização. Cada texto será representado pelas palavras que o copoõe já que é isso que diferencia os textos entre si. No entanto, não vamos utilizar somente uma grande matriz com todas as palavras e sua frequência. Para isso, vamos utilizar a métrica tf-idf para caracterizar cada palavra no texto. Para entender um pouco mais sobre essa métrica [acesse este link](https://pt.wikipedia.org/wiki/Tf%E2%80%93idf) ou os dois vídeos que seguem."
   ]
  },
  {
   "cell_type": "code",
   "execution_count": 11,
   "metadata": {
    "collapsed": false,
    "deletable": true,
    "editable": true
   },
   "outputs": [
    {
     "data": {
      "image/jpeg": "[encoded data removed]",
      "text/html": [
       "\n",
       "        <iframe\n",
       "            width=\"400\"\n",
       "            height=\"300\"\n",
       "            src=\"https://www.youtube.com/embed/t2Nq3MFK_pg\"\n",
       "            frameborder=\"0\"\n",
       "            allowfullscreen\n",
       "        ></iframe>\n",
       "        "
      ],
      "text/plain": [
       "<IPython.lib.display.YouTubeVideo at 0x10af361d0>"
      ]
     },
     "execution_count": 11,
     "metadata": {},
     "output_type": "execute_result"
    }
   ],
   "source": [
    "YouTubeVideo(\"t2Nq3MFK_pg\")"
   ]
  },
  {
   "cell_type": "code",
   "execution_count": 12,
   "metadata": {
    "collapsed": false,
    "deletable": true,
    "editable": true
   },
   "outputs": [
    {
     "data": {
      "image/jpeg": "[encoded data removed]",
      "text/html": [
       "\n",
       "        <iframe\n",
       "            width=\"400\"\n",
       "            height=\"300\"\n",
       "            src=\"https://www.youtube.com/embed/xYQb6f1SIEk\"\n",
       "            frameborder=\"0\"\n",
       "            allowfullscreen\n",
       "        ></iframe>\n",
       "        "
      ],
      "text/plain": [
       "<IPython.lib.display.YouTubeVideo at 0x10ae8a630>"
      ]
     },
     "execution_count": 12,
     "metadata": {},
     "output_type": "execute_result"
    }
   ],
   "source": [
    "YouTubeVideo(\"xYQb6f1SIEk\")"
   ]
  },
  {
   "cell_type": "markdown",
   "metadata": {
    "deletable": true,
    "editable": true
   },
   "source": [
    "Para construir essa representação dos textos, vamos utilizar o método [**TfidfVectorizer**](http://scikit-learn.org/stable/modules/generated/sklearn.feature_extraction.text.TfidfVectorizer.html) do Scikit-Learn. São passados os seguintes parâmetros. Detalhes podem ser encontrados na documentação do método. Explicando alguns: \n",
    "\n",
    "* **max_df:** filtra todas as palavras que possuem frequência maior que 80%. Palavras muito frequentes podem não trazer informação, já que é comum em todo o texto. \n",
    "* **min_df:** filtra todas as palavras que possuem frequência menor que 20%. Palavras pouco frequentes podem não trazer siginificado nenhum também. \n",
    "* **max_features:** máximo de *features* que a matriz deve possuir.\n",
    "* **stop_words:** elimina *stopwords* em inglês\n",
    "* **tokenizer:** função de tokenizer utilizada. Neste caso, utilizaremos a função implementada com stemming; "
   ]
  },
  {
   "cell_type": "code",
   "execution_count": 13,
   "metadata": {
    "collapsed": false,
    "deletable": true,
    "editable": true
   },
   "outputs": [
    {
     "name": "stdout",
     "output_type": "stream",
     "text": [
      "CPU times: user 2.06 s, sys: 37.8 ms, total: 2.1 s\n",
      "Wall time: 2.23 s\n",
      "(100, 92)\n"
     ]
    }
   ],
   "source": [
    "from sklearn.feature_extraction.text import TfidfVectorizer\n",
    "\n",
    "#define vectorizer parameters\n",
    "tfidf_vectorizer = TfidfVectorizer(max_df=0.8, max_features=200000,\n",
    "                                 min_df=0.2, stop_words='english',\n",
    "                                 use_idf=True, tokenizer=tokenize_and_stem, ngram_range=(1,3))\n",
    "\n",
    "%time tfidf_matrix = tfidf_vectorizer.fit_transform(list_of_synopses) #fit the vectorizer to synopses\n",
    "\n",
    "print(tfidf_matrix.shape)"
   ]
  },
  {
   "cell_type": "markdown",
   "metadata": {
    "deletable": true,
    "editable": true
   },
   "source": [
    "A matriz final tem dimensão (100x88), ou seja, 100 textos caracterizados por 88 termos. Observe que isso diminui bastante a dimensionalidade se comparado com todas as palavras do vocabulário (aproximadamente 5000). O vocabulário final pode ser obtido pelo código a seguir:"
   ]
  },
  {
   "cell_type": "code",
   "execution_count": 14,
   "metadata": {
    "collapsed": false,
    "deletable": true,
    "editable": true
   },
   "outputs": [
    {
     "name": "stdout",
     "output_type": "stream",
     "text": [
      "['becom', 'befor', 'begin', 'believ', 'boy', 'come', 'complet', 'continu', 'crime', 'day', 'death', 'decid', 'discov', 'doe', 'dure', 'end', 'escap', 'eventu', 'fall', 'famili', 'father', 'film', 'follow', 'forc', 'friend', 'goe', 'good', 'head', 'help', 'home', 'howev', 'includ', 'job', 'kill', 'know', 'known', 'lead', 'learn', 'leav', 'life', 'like', 'littl', 'live', 'look', 'love', 'make', 'man', 'mani', 'meet', 'men', 'mother', 'murder', \"n't\", 'need', 'new', 'offic', 'old', 'onc', 'onli', 'order', 'peopl', 'person', 'place', 'plan', 'play', 'power', 'realiz', 'return', 'run', 'save', 'sent', 'set', 'small', 'soon', 'start', 'state', 'stori', 'success', 'thing', 'time', 'togeth', 'tri', 'turn', 'use', 'want', 'war', 'way', 'woman', 'work', 'world', 'year', 'young']\n"
     ]
    }
   ],
   "source": [
    "terms = tfidf_vectorizer.get_feature_names()\n",
    "print(terms)"
   ]
  },
  {
   "cell_type": "markdown",
   "metadata": {
    "deletable": true,
    "editable": true
   },
   "source": [
    "A matriz TF-IDF é o objeto de entrada para o K-Means. Cada texto é representado por um conjunto de termos e ele vai utilizar esse conjunto de termos para caracterizar cada instância e calcular a distância entre eles na execução do algoritmo. "
   ]
  },
  {
   "cell_type": "code",
   "execution_count": 15,
   "metadata": {
    "collapsed": false,
    "deletable": true,
    "editable": true
   },
   "outputs": [
    {
     "name": "stdout",
     "output_type": "stream",
     "text": [
      "CPU times: user 179 ms, sys: 5.09 ms, total: 184 ms\n",
      "Wall time: 210 ms\n"
     ]
    },
    {
     "data": {
      "text/plain": [
       "KMeans(algorithm='auto', copy_x=True, init='k-means++', max_iter=300,\n",
       "    n_clusters=5, n_init=10, n_jobs=1, precompute_distances='auto',\n",
       "    random_state=None, tol=0.0001, verbose=0)"
      ]
     },
     "execution_count": 15,
     "metadata": {},
     "output_type": "execute_result"
    }
   ],
   "source": [
    "num_clusters = 5\n",
    "\n",
    "km = KMeans(n_clusters=num_clusters)\n",
    "\n",
    "%time km.fit(tfidf_matrix)"
   ]
  },
  {
   "cell_type": "markdown",
   "metadata": {
    "deletable": true,
    "editable": true
   },
   "source": [
    "Modelo treinado, podemos retornar os clusters gerados:"
   ]
  },
  {
   "cell_type": "code",
   "execution_count": 16,
   "metadata": {
    "collapsed": false,
    "deletable": true,
    "editable": true
   },
   "outputs": [
    {
     "name": "stdout",
     "output_type": "stream",
     "text": [
      "100\n"
     ]
    }
   ],
   "source": [
    "clusters = km.labels_.tolist()\n",
    "print(len(clusters))"
   ]
  },
  {
   "cell_type": "markdown",
   "metadata": {
    "deletable": true,
    "editable": true
   },
   "source": [
    "**clusters** é uma lista que associa em cada posição um número que representa o cluster. Por exemplo, o documento zero foi classificado no cluster 3."
   ]
  },
  {
   "cell_type": "code",
   "execution_count": 17,
   "metadata": {
    "collapsed": false,
    "deletable": true,
    "editable": true
   },
   "outputs": [
    {
     "name": "stdout",
     "output_type": "stream",
     "text": [
      "3\n"
     ]
    }
   ],
   "source": [
    "print(clusters[0])"
   ]
  },
  {
   "cell_type": "markdown",
   "metadata": {
    "deletable": true,
    "editable": true
   },
   "source": [
    "### Visualizando os Clusters\n",
    "\n",
    "Clusters criados, podemos visualizar os filmes que compõe cada cluster. Vamos criar um dataframe que indexa a lista de filmes e sinopses a partir do cluster que foi associado para cada filme. "
   ]
  },
  {
   "cell_type": "code",
   "execution_count": 18,
   "metadata": {
    "collapsed": false,
    "deletable": true,
    "editable": true
   },
   "outputs": [],
   "source": [
    "films = { 'title': list_of_titles, 'synopsis': list_of_synopses, 'cluster': clusters}\n",
    "\n",
    "frame = pd.DataFrame(films, index = [clusters] , columns = ['title', 'synopsis'])"
   ]
  },
  {
   "cell_type": "code",
   "execution_count": 19,
   "metadata": {
    "collapsed": false,
    "deletable": true,
    "editable": true
   },
   "outputs": [
    {
     "data": {
      "text/html": [
       "<div>\n",
       "<style>\n",
       "    .dataframe thead tr:only-child th {\n",
       "        text-align: right;\n",
       "    }\n",
       "\n",
       "    .dataframe thead th {\n",
       "        text-align: left;\n",
       "    }\n",
       "\n",
       "    .dataframe tbody tr th {\n",
       "        vertical-align: top;\n",
       "    }\n",
       "</style>\n",
       "<table border=\"1\" class=\"dataframe\">\n",
       "  <thead>\n",
       "    <tr style=\"text-align: right;\">\n",
       "      <th></th>\n",
       "      <th>title</th>\n",
       "      <th>synopsis</th>\n",
       "    </tr>\n",
       "  </thead>\n",
       "  <tbody>\n",
       "    <tr>\n",
       "      <th>3</th>\n",
       "      <td>The Shawshank Redemption</td>\n",
       "      <td>Chronicles the experiences of a formerly succe...</td>\n",
       "    </tr>\n",
       "    <tr>\n",
       "      <th>2</th>\n",
       "      <td>The Godfather</td>\n",
       "      <td>When the aging head of a famous crime family d...</td>\n",
       "    </tr>\n",
       "    <tr>\n",
       "      <th>2</th>\n",
       "      <td>The Godfather: Part II</td>\n",
       "      <td>The continuing saga of the Corleone crime fami...</td>\n",
       "    </tr>\n",
       "    <tr>\n",
       "      <th>1</th>\n",
       "      <td>The Dark Knight</td>\n",
       "      <td>Set within a year after the events of Batman B...</td>\n",
       "    </tr>\n",
       "    <tr>\n",
       "      <th>3</th>\n",
       "      <td>12 Angry Men</td>\n",
       "      <td>The defense and the prosecution have rested an...</td>\n",
       "    </tr>\n",
       "  </tbody>\n",
       "</table>\n",
       "</div>"
      ],
      "text/plain": [
       "                      title                                           synopsis\n",
       "3  The Shawshank Redemption  Chronicles the experiences of a formerly succe...\n",
       "2             The Godfather  When the aging head of a famous crime family d...\n",
       "2    The Godfather: Part II  The continuing saga of the Corleone crime fami...\n",
       "1           The Dark Knight  Set within a year after the events of Batman B...\n",
       "3              12 Angry Men  The defense and the prosecution have rested an..."
      ]
     },
     "execution_count": 19,
     "metadata": {},
     "output_type": "execute_result"
    }
   ],
   "source": [
    "frame.head()"
   ]
  },
  {
   "cell_type": "markdown",
   "metadata": {
    "deletable": true,
    "editable": true
   },
   "source": [
    "Uma outra coisa interessante a se fazer é identificar quais são as N palavras mais próximas do centróide de cada cluster. Essa informação pode nos dar uma idéia geral do tipo de filme que compõe cada cluster. Nesse caso, vamos utilizar N = 6."
   ]
  },
  {
   "cell_type": "code",
   "execution_count": 23,
   "metadata": {
    "collapsed": false,
    "deletable": true,
    "editable": true
   },
   "outputs": [
    {
     "name": "stdout",
     "output_type": "stream",
     "text": [
      "Top termos por cluster:\n",
      "\n",
      "Palavras do Cluster 0 : b'kill', b'years', b'officer', b'sent', b'time', b'plan',\n",
      "\n",
      "Filmes do Cluster 0: Saving Private Ryan, American History X, Terminator 2, Apocalypse Now, Blade Runner 2049, Aliens, Reservoir Dogs, Double Indemnity, 2001: A Space Odyssey, Inglourious Basterds,\n",
      "\n",
      "Palavras do Cluster 1 : b'war', b'forcing', b'powerful', b'death', b'world', b'new',\n",
      "\n",
      "Filmes do Cluster 1: The Dark Knight, Schindler's List, The Lord of the Rings: The Return of the King, The Lord of the Rings: The Fellowship of the Ring, Star Wars: Episode V - The Empire Strikes Back, The Lord of the Rings: The Two Towers, Star Wars: Episode IV - A New Hope, Raiders of the Lost Ark, The Pianist, Gladiator, The Great Dictator, Dr. Strangelove or: How I Learned to Stop Worrying and Love the Bomb, Paths of Glory, The Dark Knight Rises, Star Wars: Episode VI - Return of the Jedi, Lawrence of Arabia, Full Metal Jacket, Dunkirk,\n",
      "\n",
      "Palavras do Cluster 2 : b'life', b'new', b'live', b'family', b'father', b'home',\n",
      "\n",
      "Filmes do Cluster 2: The Godfather, The Godfather: Part II, Pulp Fiction, Goodfellas, The Matrix, Seven Samurai, City of God, Se7en, The Usual Suspects, Léon: The Professional, Interstellar, The Intouchables, The Lion King, Cinema Paradiso, Grave of the Fireflies, The Shining, American Beauty, Oldboy, Once Upon a Time in America, Das Boot, Dangal, Braveheart, Like Stars on Earth, Your Name, Toy Story 3, Toy Story,\n",
      "\n",
      "Palavras do Cluster 3 : b'murder', b'man', b'know', b\"n't\", b'time', b'woman',\n",
      "\n",
      "Filmes do Cluster 3: The Shawshank Redemption, 12 Angry Men, The Good, the Bad and the Ugly, Inception, One Flew Over the Cuckoo's Nest, The Silence of the Lambs, Once Upon a Time in the West, The Green Mile, The Departed, Rear Window, Whiplash, The Prestige, Memento, The Lives of Others, Django Unchained, Princess Mononoke, Witness for the Prosecution, Citizen Kane, Vertigo, North by Northwest, M, A Clockwork Orange, Amadeus, To Kill a Mockingbird, The Sting, 3 Idiots, Bicycle Thieves,\n",
      "\n",
      "Palavras do Cluster 4 : b'love', b'meet', b'life', b'working', b'way', b'falls',\n",
      "\n",
      "Filmes do Cluster 4: Fight Club, Forrest Gump, It's a Wonderful Life, Life Is Beautiful, Spirited Away, Psycho, Casablanca, City Lights, Modern Times, Back to the Future, Alien, Sunset Blvd., WALL·E, Requiem for a Dream, Amélie, Eternal Sunshine of the Spotless Mind, Taxi Driver, Singin' in the Rain, The Kid,\n",
      "\n"
     ]
    }
   ],
   "source": [
    "N = 6\n",
    "\n",
    "dict_class = {}\n",
    "\n",
    "print(\"Top termos por cluster:\")\n",
    "print()\n",
    "\n",
    "#sort cluster centers by proximity to centroid\n",
    "order_centroids = km.cluster_centers_.argsort()[:, ::-1] \n",
    "\n",
    "for i in range(num_clusters):\n",
    "    print(\"Palavras do Cluster %d :\" % i, end='')\n",
    "    list_words = []\n",
    "    for ind in order_centroids[i, :N]: #replace 6 with n words per cluster\n",
    "        word = vocab_frame.loc[terms[ind].split(' ')].values.tolist()[0][0].encode('utf-8', 'ignore')\n",
    "        list_words.append(word)\n",
    "        print(' %s' % word, end=',')\n",
    "    dict_class[i] = list_words\n",
    "    print() \n",
    "    print() \n",
    "    \n",
    "    print(\"Filmes do Cluster %d:\" % i, end='')\n",
    "    for title in frame.loc[i]['title'].values.tolist():\n",
    "        print(' %s,' % title, end='')\n",
    "    print() \n",
    "    print() \n",
    "    "
   ]
  },
  {
   "cell_type": "markdown",
   "metadata": {
    "deletable": true,
    "editable": true
   },
   "source": [
    "## Usando o DBScan\n",
    "\n",
    "Vamos realizar a mesma tarefa só que agora utilizando o método DBScan, onde não precisamos passar o número de grupos e ver em quantos grupos os filmes são agrupados. "
   ]
  },
  {
   "cell_type": "code",
   "execution_count": 118,
   "metadata": {
    "collapsed": false,
    "deletable": true,
    "editable": true
   },
   "outputs": [
    {
     "name": "stdout",
     "output_type": "stream",
     "text": [
      "CPU times: user 5.96 ms, sys: 3.63 ms, total: 9.59 ms\n",
      "Wall time: 6.39 ms\n",
      "9\n",
      "[0, 1, 1, 1, 0, -1, -1, 2, 3, 4, 5, 4, 1, 3, 2, -1, 0, -1, -1, 5, 0, 0, 0, 4, 1, -1, 1, -1, -1, -1, 1, 1, -1, 0, -1, -1, 4, 4, 5, 1, -1, 0, 0, -1, -1, 5, 4, 1, 0, 0, -1, -1, 4, 2, -1, -1, 6, 2, 7, 3, 1, -1, 4, 1, 0, -1, -1, 0, 7, -1, 4, 1, -1, 0, 5, -1, 0, 0, 0, 4, -1, -1, 6, -1, 0, -1, -1, 4, -1, -1, 2, -1, -1, 1, 1, 3, -1, 3, 0, -1]\n"
     ]
    }
   ],
   "source": [
    "from sklearn.cluster import DBSCAN\n",
    "dbscan = DBSCAN(eps=1.0, min_samples=2)\n",
    "%time dbscan.fit(tfidf_matrix)\n",
    "\n",
    "clusters_dbscan = dbscan.labels_.tolist()\n",
    "print(len(set(clusters_dbscan)))\n",
    "print(clusters_dbscan)\n"
   ]
  },
  {
   "cell_type": "code",
   "execution_count": 119,
   "metadata": {
    "collapsed": true,
    "deletable": true,
    "editable": true
   },
   "outputs": [],
   "source": [
    "films_dbscan = { 'title': list_of_titles, 'synopsis': list_of_synopses, 'cluster': clusters_dbscan}\n",
    "\n",
    "frame_dbscan = pd.DataFrame(films_dbscan, index = [clusters_dbscan] , columns = ['title', 'synopsis'])"
   ]
  },
  {
   "cell_type": "code",
   "execution_count": 121,
   "metadata": {
    "collapsed": false,
    "deletable": true,
    "editable": true
   },
   "outputs": [
    {
     "name": "stdout",
     "output_type": "stream",
     "text": [
      "Top termos por cluster:\n",
      "\n",
      "8\n",
      "Filmes do Cluster 0: The Shawshank Redemption, 12 Angry Men, Goodfellas, City of God, Se7en, The Silence of the Lambs, The Green Mile, Rear Window, Terminator 2, Memento, Apocalypse Now, Princess Mononoke, Witness for the Prosecution, North by Northwest, Reservoir Dogs, M, Requiem for a Dream, Double Indemnity, Inglourious Basterds,\n",
      "\n",
      "Filmes do Cluster 1: The Godfather, The Godfather: Part II, The Dark Knight, Star Wars: Episode V - The Empire Strikes Back, Life Is Beautiful, Léon: The Professional, Once Upon a Time in the West, Interstellar, The Pianist, The Lion King, The Shining, The Dark Knight Rises, Dangal, Toy Story 3, Toy Story,\n",
      "\n",
      "Filmes do Cluster 2: The Lord of the Rings: The Return of the King, The Lord of the Rings: The Two Towers, Dr. Strangelove or: How I Learned to Stop Worrying and Love the Bomb, Paths of Glory, Dunkirk,\n",
      "\n",
      "Filmes do Cluster 3: The Good, the Bad and the Ugly, Inception, Django Unchained, The Sting, Bicycle Thieves,\n",
      "\n",
      "Filmes do Cluster 4: Fight Club, Forrest Gump, It's a Wonderful Life, The Intouchables, Modern Times, The Prestige, Sunset Blvd., American Beauty, Citizen Kane, Amélie, Taxi Driver,\n",
      "\n",
      "Filmes do Cluster 5: The Lord of the Rings: The Fellowship of the Ring, Star Wars: Episode IV - A New Hope, Raiders of the Lost Ark, Gladiator, Star Wars: Episode VI - Return of the Jedi,\n",
      "\n",
      "Filmes do Cluster 6: Grave of the Fireflies, Your Name,\n",
      "\n",
      "Filmes do Cluster 7: Blade Runner 2049, Once Upon a Time in America,\n",
      "\n"
     ]
    }
   ],
   "source": [
    "print(\"Top termos por cluster:\")\n",
    "print()\n",
    "\n",
    "num_clusters = len(set(clusters_dbscan)) - 1 #desconsidera os clusters -1\n",
    "print(num_clusters)\n",
    "\n",
    "for i in range(num_clusters):\n",
    "    print(\"Filmes do Cluster %d:\" % i, end='')\n",
    "    for title in frame_dbscan.loc[i]['title'].values.tolist():\n",
    "        #print(frame_dbscan.loc[i])\n",
    "        print(' %s,' % title, end='')\n",
    "    print() \n",
    "    print() "
   ]
  },
  {
   "cell_type": "markdown",
   "metadata": {
    "deletable": true,
    "editable": true
   },
   "source": [
    "## Classificando novos documentos\n",
    "\n",
    "Podemos utilizar a classificação gerada para classificar novos documentos. Ou seja, utilizaríamos 5 classes e usaríamos esta classificação como nossa base de treinamento e então poderíamos utilizar este modelo para classificar novos filmes. Essa tarefa é proposta em outro exercício. Para isso, vamos gerar a nossa base de treinamento e armazenar em um arquivo que será utilizado na outra tarefa. "
   ]
  },
  {
   "cell_type": "code",
   "execution_count": 122,
   "metadata": {
    "collapsed": false,
    "deletable": true,
    "editable": true
   },
   "outputs": [],
   "source": [
    "data_classified = []\n",
    "\n",
    "count = 0\n",
    "\n",
    "for imdbid in list_of_ids:\n",
    "    data_classified.append({'imdbid': imdbid, 'class': clusters[count], 'title': list_of_titles[count], 'sinopsis': list_of_synopses[count]})\n",
    "    count += 1"
   ]
  },
  {
   "cell_type": "code",
   "execution_count": 123,
   "metadata": {
    "collapsed": false,
    "deletable": true,
    "editable": true
   },
   "outputs": [
    {
     "data": {
      "text/plain": [
       "['moviesclassifieds.pkl']"
      ]
     },
     "execution_count": 123,
     "metadata": {},
     "output_type": "execute_result"
    }
   ],
   "source": [
    "joblib.dump(data_classified, \"moviesclassifieds.pkl\")"
   ]
  },
  {
   "cell_type": "markdown",
   "metadata": {
    "deletable": true,
    "editable": true
   },
   "source": [
    "Para facilitar a identificação dos Clusters vamos salvar também um dicionário com a identificação de clada cluster. Estamos utilizando a classificação gerada pelo KMeans. "
   ]
  },
  {
   "cell_type": "code",
   "execution_count": 124,
   "metadata": {
    "collapsed": false,
    "deletable": true,
    "editable": true
   },
   "outputs": [
    {
     "data": {
      "text/plain": [
       "['moviesclass.pkl']"
      ]
     },
     "execution_count": 124,
     "metadata": {},
     "output_type": "execute_result"
    }
   ],
   "source": [
    "joblib.dump(dict_class, \"moviesclass.pkl\")"
   ]
  }
 ],
 "metadata": {
  "kernelspec": {
   "display_name": "Python 3",
   "language": "python",
   "name": "python3"
  },
  "language_info": {
   "codemirror_mode": {
    "name": "ipython",
    "version": 3
   },
   "file_extension": ".py",
   "mimetype": "text/x-python",
   "name": "python",
   "nbconvert_exporter": "python",
   "pygments_lexer": "ipython3",
   "version": "3.6.0"
  }
 },
 "nbformat": 4,
 "nbformat_minor": 2
}
